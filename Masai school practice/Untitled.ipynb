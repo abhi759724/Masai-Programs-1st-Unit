{
 "cells": [
  {
   "cell_type": "code",
   "execution_count": 5,
   "id": "b236c058",
   "metadata": {},
   "outputs": [],
   "source": [
    "def generatePassword():\n",
    "    return passwrd\n",
    "import random\n",
    "vow=[\"aeiou\"]\n",
    "con=[\"bcdfghjklmnpqrstvwxyz\"]\n",
    "num=[1,2,3,4,5,6,7,8,9]\n",
    "passw=\"\"\n",
    "passw=passw+random.choice(vow)\n"
   ]
  },
  {
   "cell_type": "code",
   "execution_count": 9,
   "id": "4788ac41",
   "metadata": {},
   "outputs": [
    {
     "name": "stdout",
     "output_type": "stream",
     "text": [
      "4\n",
      "ahbi\n",
      "None\n"
     ]
    }
   ],
   "source": [
    "n=int(input())\n",
    "strg=input()\n",
    "strg1=[]\n",
    "strg1.append(strg)\n",
    "z=strg1.reverse()\n",
    "print(z)"
   ]
  },
  {
   "cell_type": "code",
   "execution_count": 7,
   "id": "57b7b869",
   "metadata": {},
   "outputs": [],
   "source": [
    "import random\n",
    "def RandomPass():\n",
    "\n",
    "    lowervow=\"aeiou\"\n",
    "    lower=\"abcdefghijklmnopqrstuvwxyz\"\n",
    "    upper=\"ABCDEFGHIJKLMNOPQRSTUVWXYZ\"\n",
    "    num=\"0123456789\"\n",
    "    sc=\"!@#$%^&*()_\"\n",
    "    passw=''\n",
    "    passw=passw+random.choice(lowervow)\n",
    "    passw=passw+random.choice(lower)\n",
    "    passw=passw+random.choice(upper)\n",
    "    passw=passw+random.choice(num)\n",
    "    passw=passw+random.choice(sc)\n",
    "    return passw\n"
   ]
  },
  {
   "cell_type": "code",
   "execution_count": 8,
   "id": "225387fe",
   "metadata": {},
   "outputs": [
    {
     "ename": "SyntaxError",
     "evalue": "incomplete input (2660792765.py, line 1)",
     "output_type": "error",
     "traceback": [
      "\u001b[1;36m  Cell \u001b[1;32mIn[8], line 1\u001b[1;36m\u001b[0m\n\u001b[1;33m    @vrittI123\u001b[0m\n\u001b[1;37m              ^\u001b[0m\n\u001b[1;31mSyntaxError\u001b[0m\u001b[1;31m:\u001b[0m incomplete input\n"
     ]
    }
   ],
   "source": [
    "@vrittI123\n"
   ]
  },
  {
   "cell_type": "code",
   "execution_count": null,
   "id": "461bc7e5",
   "metadata": {},
   "outputs": [],
   "source": []
  }
 ],
 "metadata": {
  "kernelspec": {
   "display_name": "Python 3 (ipykernel)",
   "language": "python",
   "name": "python3"
  },
  "language_info": {
   "codemirror_mode": {
    "name": "ipython",
    "version": 3
   },
   "file_extension": ".py",
   "mimetype": "text/x-python",
   "name": "python",
   "nbconvert_exporter": "python",
   "pygments_lexer": "ipython3",
   "version": "3.11.1"
  }
 },
 "nbformat": 4,
 "nbformat_minor": 5
}

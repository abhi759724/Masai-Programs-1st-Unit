{
 "cells": [
  {
   "cell_type": "code",
   "execution_count": 5,
   "id": "b236c058",
   "metadata": {},
   "outputs": [],
   "source": [
    "def generatePassword():\n",
    "    return passwrd\n",
    "import random\n",
    "vow=[\"aeiou\"]\n",
    "con=[\"bcdfghjklmnpqrstvwxyz\"]\n",
    "num=[1,2,3,4,5,6,7,8,9]\n",
    "passw=\"\"\n",
    "passw=passw+random.choice(vow)\n"
   ]
  },
  {
   "cell_type": "code",
   "execution_count": 9,
   "id": "4788ac41",
   "metadata": {},
   "outputs": [
    {
     "name": "stdout",
     "output_type": "stream",
     "text": [
      "4\n",
      "ahbi\n",
      "None\n"
     ]
    }
   ],
   "source": [
    "n=int(input())\n",
    "strg=input()\n",
    "strg1=[]\n",
    "strg1.append(strg)\n",
    "z=strg1.reverse()\n",
    "print(z)"
   ]
  },
  {
   "cell_type": "code",
   "execution_count": 16,
   "id": "57b7b869",
   "metadata": {},
   "outputs": [
    {
     "name": "stdout",
     "output_type": "stream",
     "text": [
      "7\n",
      "abh456^\n",
      "False\n"
     ]
    }
   ],
   "source": [
    "import random\n",
    "lowervow=\"aeiou\"\n",
    "lowercon=\"bcdfghjklmnpqrstvwxyz\"\n",
    "num=\"0123456789\"\n",
    "sc=\"!@#$%^&*()_\"\n",
    "\n",
    "length=int(input())\n",
    "strg=input()\n",
    "password=\"\".join(random.sample(strg,length))\n",
    "if lowervow in password and lower upper in password and num in password and sc in password and length>5:\n",
    "    print(True)\n",
    "else:\n",
    "    print(False)\n"
   ]
  },
  {
   "cell_type": "code",
   "execution_count": null,
   "id": "225387fe",
   "metadata": {},
   "outputs": [],
   "source": []
  }
 ],
 "metadata": {
  "kernelspec": {
   "display_name": "Python 3 (ipykernel)",
   "language": "python",
   "name": "python3"
  },
  "language_info": {
   "codemirror_mode": {
    "name": "ipython",
    "version": 3
   },
   "file_extension": ".py",
   "mimetype": "text/x-python",
   "name": "python",
   "nbconvert_exporter": "python",
   "pygments_lexer": "ipython3",
   "version": "3.11.1"
  }
 },
 "nbformat": 4,
 "nbformat_minor": 5
}

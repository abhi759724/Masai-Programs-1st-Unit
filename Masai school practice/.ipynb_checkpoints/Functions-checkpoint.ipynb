{
 "cells": [
  {
   "cell_type": "code",
   "execution_count": 7,
   "id": "d961b478",
   "metadata": {},
   "outputs": [],
   "source": [
    "def test_function():\n",
    "    print(\"test function\")"
   ]
  },
  {
   "cell_type": "code",
   "execution_count": 9,
   "id": "1bc110bc",
   "metadata": {},
   "outputs": [
    {
     "name": "stdout",
     "output_type": "stream",
     "text": [
      "test function\n",
      "test function\n",
      "test function\n",
      "test function\n",
      "test function\n"
     ]
    }
   ],
   "source": [
    "test_function()\n",
    "test_function()\n",
    "test_function()\n",
    "test_function()\n",
    "test_function()"
   ]
  },
  {
   "cell_type": "code",
   "execution_count": 13,
   "id": "d12c7e30",
   "metadata": {},
   "outputs": [],
   "source": [
    "def name():\n",
    "    '''\n",
    "       This method helps us to print name of the person\n",
    "    '''\n",
    "    print(\"abhishek\")\n"
   ]
  },
  {
   "cell_type": "code",
   "execution_count": 14,
   "id": "f5fdb9dc",
   "metadata": {},
   "outputs": [
    {
     "name": "stdout",
     "output_type": "stream",
     "text": [
      "abhishek\n"
     ]
    }
   ],
   "source": [
    "name()"
   ]
  },
  {
   "cell_type": "code",
   "execution_count": 15,
   "id": "d5e48517",
   "metadata": {},
   "outputs": [
    {
     "name": "stdout",
     "output_type": "stream",
     "text": [
      "Help on function name in module __main__:\n",
      "\n",
      "name()\n",
      "    This method helps us to print name of the person\n",
      "\n"
     ]
    }
   ],
   "source": [
    "help(name)"
   ]
  },
  {
   "cell_type": "code",
   "execution_count": 22,
   "id": "13ffea14",
   "metadata": {},
   "outputs": [],
   "source": [
    "def test_function(name1,name2):\n",
    "    print(name1,name2)"
   ]
  },
  {
   "cell_type": "code",
   "execution_count": 24,
   "id": "3f86472f",
   "metadata": {},
   "outputs": [
    {
     "name": "stdout",
     "output_type": "stream",
     "text": [
      "Abhishek papa\n",
      "Sheela Ankita\n"
     ]
    }
   ],
   "source": [
    "test_function(\"Abhishek\",\"papa\")\n",
    "test_function(\"Sheela\",\"Ankita\")"
   ]
  },
  {
   "cell_type": "code",
   "execution_count": 39,
   "id": "6eb2ddf0",
   "metadata": {},
   "outputs": [],
   "source": [
    "def name(a,c,d,v=5,e=1):\n",
    "    print(a)\n",
    "    print(c)\n",
    "    print(d)\n",
    "    print(e)\n",
    "    print(v)"
   ]
  },
  {
   "cell_type": "code",
   "execution_count": 41,
   "id": "3bbea3e7",
   "metadata": {},
   "outputs": [
    {
     "name": "stdout",
     "output_type": "stream",
     "text": [
      "3\n",
      "4\n",
      "5\n",
      "pandey\n",
      "abhi\n"
     ]
    }
   ],
   "source": [
    "### If we give the value again then it will prefer last value\n",
    "\n",
    "name(3,4,5,\"abhi\",\"pandey\")"
   ]
  },
  {
   "cell_type": "code",
   "execution_count": 53,
   "id": "3150fc76",
   "metadata": {},
   "outputs": [],
   "source": [
    "def value():\n",
    "    return \"abhishek\""
   ]
  },
  {
   "cell_type": "code",
   "execution_count": 54,
   "id": "fd1a350e",
   "metadata": {},
   "outputs": [
    {
     "name": "stdout",
     "output_type": "stream",
     "text": [
      "abhishek\n"
     ]
    }
   ],
   "source": [
    "val = value()\n",
    "print(val)"
   ]
  },
  {
   "cell_type": "code",
   "execution_count": 57,
   "id": "0249e460",
   "metadata": {},
   "outputs": [],
   "source": [
    "def value():\n",
    "    print(\"Hello abhishek!\")\n",
    "    return True\n",
    "    print(\"Hello there\")"
   ]
  },
  {
   "cell_type": "code",
   "execution_count": 58,
   "id": "aa7dd2b7",
   "metadata": {},
   "outputs": [
    {
     "name": "stdout",
     "output_type": "stream",
     "text": [
      "Hello abhishek!\n",
      "True\n"
     ]
    }
   ],
   "source": [
    "val = value()\n",
    "print(val)"
   ]
  },
  {
   "cell_type": "code",
   "execution_count": 59,
   "id": "9393a263",
   "metadata": {},
   "outputs": [],
   "source": [
    "def value():\n",
    "    print(\"Hello abhishek!\")\n",
    "    return False\n",
    "    print(\"Hello there\")"
   ]
  },
  {
   "cell_type": "code",
   "execution_count": 60,
   "id": "6f612f8c",
   "metadata": {},
   "outputs": [
    {
     "name": "stdout",
     "output_type": "stream",
     "text": [
      "Hello abhishek!\n",
      "False\n"
     ]
    }
   ],
   "source": [
    "val = value()\n",
    "print(val)"
   ]
  },
  {
   "cell_type": "code",
   "execution_count": 63,
   "id": "3ef6f798",
   "metadata": {},
   "outputs": [],
   "source": [
    "## *args  ==>   When used in a method we can supply any numbers of arguments in that method\n",
    "  \n",
    "def test(*args):\n",
    "    print(args)"
   ]
  },
  {
   "cell_type": "code",
   "execution_count": 64,
   "id": "53ac304c",
   "metadata": {},
   "outputs": [
    {
     "name": "stdout",
     "output_type": "stream",
     "text": [
      "(1, 2, 3, 4, 5, 6, 7, 8, 9, 10)\n"
     ]
    }
   ],
   "source": [
    "test(1,2,3,4,5,6,7,8,9,10)"
   ]
  },
  {
   "cell_type": "code",
   "execution_count": 69,
   "id": "52e48f65",
   "metadata": {},
   "outputs": [],
   "source": [
    "def test(*x):\n",
    "    print(x) "
   ]
  },
  {
   "cell_type": "code",
   "execution_count": 70,
   "id": "eb740c57",
   "metadata": {},
   "outputs": [
    {
     "name": "stdout",
     "output_type": "stream",
     "text": [
      "(1, 2, 3, 4, 4, 5, 5, 6, 7)\n"
     ]
    }
   ],
   "source": [
    "test(1,2,3,4,4,5,5,6,7)"
   ]
  },
  {
   "cell_type": "code",
   "execution_count": 75,
   "id": "2835ed64",
   "metadata": {},
   "outputs": [],
   "source": [
    "def test(*x):\n",
    "    print(x)"
   ]
  },
  {
   "cell_type": "code",
   "execution_count": 77,
   "id": "27cccc57",
   "metadata": {},
   "outputs": [],
   "source": [
    "def test(**kwargs):\n",
    "    print(kwargs)"
   ]
  },
  {
   "cell_type": "code",
   "execution_count": null,
   "id": "addccb99",
   "metadata": {},
   "outputs": [],
   "source": []
  }
 ],
 "metadata": {
  "kernelspec": {
   "display_name": "Python 3 (ipykernel)",
   "language": "python",
   "name": "python3"
  },
  "language_info": {
   "codemirror_mode": {
    "name": "ipython",
    "version": 3
   },
   "file_extension": ".py",
   "mimetype": "text/x-python",
   "name": "python",
   "nbconvert_exporter": "python",
   "pygments_lexer": "ipython3",
   "version": "3.11.1"
  }
 },
 "nbformat": 4,
 "nbformat_minor": 5
}

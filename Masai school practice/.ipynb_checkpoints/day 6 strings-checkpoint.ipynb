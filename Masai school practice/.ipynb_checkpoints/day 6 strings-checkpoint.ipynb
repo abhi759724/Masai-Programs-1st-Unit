{
 "cells": [
  {
   "cell_type": "code",
   "execution_count": 2,
   "id": "f136007f",
   "metadata": {},
   "outputs": [
    {
     "name": "stdout",
     "output_type": "stream",
     "text": [
      "1\n",
      "14\n",
      "masai123school\n",
      "Strong\n"
     ]
    }
   ],
   "source": [
    "##  Check your password\n",
    "\n",
    "\n",
    "t=int(input())\n",
    "for i in range(t):\n",
    "    n=int(input())\n",
    "    str=input()\n",
    "    alpha=digit=0\n",
    "    for i in range(n):\n",
    "        if str[i].isalpha():\n",
    "            alpha+=1\n",
    "        elif str[i].isdigit():\n",
    "            digit+=1\n",
    "    if alpha>(n/2) and digit!=0:\n",
    "        print(\"Strong\")\n",
    "    else:\n",
    "        print(\"Weak\")"
   ]
  },
  {
   "cell_type": "code",
   "execution_count": null,
   "id": "d8cfa6fa",
   "metadata": {},
   "outputs": [],
   "source": [
    "## Vowels and Consonents\n",
    "\n",
    "\n",
    "x=int(input())\n",
    "for i in range(x):\n",
    "    a=int(input())\n",
    "    b=input()\n",
    "    c=int(input())\n",
    "    d=input()\n",
    "    e=''\n",
    "    for i in range(a):\n",
    "        if b[i]==\"a\" or b[i]==\"e\" or b[i]==\"i\" or b[i]==\"o\" or b[i]==\"u\":\n",
    "           e=e+b[i]\n",
    "    for j in range(c):\n",
    "        if d[j]==\"a\" or d[j]==\"e\" or d[j]==\"i\" or d[j]==\"o\" or d[j]==\"u\":\n",
    "            continue\n",
    "        else:\n",
    "            e=e+d[j]\n",
    "    print(e)"
   ]
  },
  {
   "cell_type": "code",
   "execution_count": 1,
   "id": "bee7e184",
   "metadata": {},
   "outputs": [
    {
     "name": "stdout",
     "output_type": "stream",
     "text": [
      "3\n",
      "ab\n",
      "ba\n",
      "bc\n",
      "cb\n",
      "ca\n",
      "ac\n"
     ]
    }
   ],
   "source": [
    "## Reverse string\n",
    "\n",
    "x=int(input())\n",
    "for i in range(x):\n",
    "    y=input()\n",
    "    b=''\n",
    "    for i in range(len(y)-1,-1,-1):\n",
    "        b=b+y[i]\n",
    "    print(b)"
   ]
  },
  {
   "cell_type": "code",
   "execution_count": 3,
   "id": "f69bee5b",
   "metadata": {},
   "outputs": [
    {
     "name": "stdout",
     "output_type": "stream",
     "text": [
      "5\n",
      "ulrdr\n",
      "0 1\n"
     ]
    }
   ],
   "source": [
    "## String Coordinates  \n",
    "\n",
    "\n",
    "n=int(input())\n",
    "x=0\n",
    "y=0\n",
    "str=input()\n",
    "for i in range(len(str)):\n",
    "    if str[i]=='u':\n",
    "        x=x+1\n",
    "    elif str[i]=='d':\n",
    "        x=x-1\n",
    "    elif str[i]=='r':\n",
    "        y=y+1\n",
    "    elif str[i]=='l':\n",
    "        y=y-1\n",
    "print(x,y)"
   ]
  },
  {
   "cell_type": "code",
   "execution_count": null,
   "id": "219b0de0",
   "metadata": {},
   "outputs": [],
   "source": [
    "## War of Numbers\n",
    "\n",
    "n=int(input())\n",
    "arr=list(map(int,input().split()))\n",
    "Even=0\n",
    "for i in arr:\n",
    "    if i%2==0:\n",
    "        Even=Even+i\n",
    "Odd=0\n",
    "for i in arr:\n",
    "    if i%2==1:\n",
    "        Odd=Odd+i\n",
    "print(Even-Odd)"
   ]
  }
 ],
 "metadata": {
  "kernelspec": {
   "display_name": "Python 3 (ipykernel)",
   "language": "python",
   "name": "python3"
  },
  "language_info": {
   "codemirror_mode": {
    "name": "ipython",
    "version": 3
   },
   "file_extension": ".py",
   "mimetype": "text/x-python",
   "name": "python",
   "nbconvert_exporter": "python",
   "pygments_lexer": "ipython3",
   "version": "3.11.1"
  }
 },
 "nbformat": 4,
 "nbformat_minor": 5
}

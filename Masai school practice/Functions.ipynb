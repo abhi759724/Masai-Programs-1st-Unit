{
 "cells": [
  {
   "cell_type": "code",
   "execution_count": 7,
   "id": "a1f397f2",
   "metadata": {},
   "outputs": [],
   "source": [
    "def test_function():\n",
    "    print(\"test function\")"
   ]
  },
  {
   "cell_type": "code",
   "execution_count": 9,
   "id": "99183ca6",
   "metadata": {},
   "outputs": [
    {
     "name": "stdout",
     "output_type": "stream",
     "text": [
      "test function\n",
      "test function\n",
      "test function\n",
      "test function\n",
      "test function\n"
     ]
    }
   ],
   "source": [
    "test_function()\n",
    "test_function()\n",
    "test_function()\n",
    "test_function()\n",
    "test_function()"
   ]
  },
  {
   "cell_type": "code",
   "execution_count": 13,
   "id": "92b25d20",
   "metadata": {},
   "outputs": [],
   "source": [
    "def name():\n",
    "    '''\n",
    "       This method helps us to print name of the person\n",
    "    '''\n",
    "    print(\"abhishek\")\n"
   ]
  },
  {
   "cell_type": "code",
   "execution_count": 14,
   "id": "5410a623",
   "metadata": {},
   "outputs": [
    {
     "name": "stdout",
     "output_type": "stream",
     "text": [
      "abhishek\n"
     ]
    }
   ],
   "source": [
    "name()"
   ]
  },
  {
   "cell_type": "code",
   "execution_count": 15,
   "id": "8e84e8f5",
   "metadata": {},
   "outputs": [
    {
     "name": "stdout",
     "output_type": "stream",
     "text": [
      "Help on function name in module __main__:\n",
      "\n",
      "name()\n",
      "    This method helps us to print name of the person\n",
      "\n"
     ]
    }
   ],
   "source": [
    "help(name)"
   ]
  },
  {
   "cell_type": "code",
   "execution_count": 22,
   "id": "1baf1195",
   "metadata": {},
   "outputs": [],
   "source": [
    "def test_function(name1,name2):\n",
    "    print(name1,name2)"
   ]
  },
  {
   "cell_type": "code",
   "execution_count": 24,
   "id": "431a1765",
   "metadata": {},
   "outputs": [
    {
     "name": "stdout",
     "output_type": "stream",
     "text": [
      "Abhishek papa\n",
      "Sheela Ankita\n"
     ]
    }
   ],
   "source": [
    "test_function(\"Abhishek\",\"papa\")\n",
    "test_function(\"Sheela\",\"Ankita\")"
   ]
  },
  {
   "cell_type": "code",
   "execution_count": 39,
   "id": "de07c4e9",
   "metadata": {},
   "outputs": [],
   "source": [
    "def name(a,c,d,v=5,e=1):\n",
    "    print(a)\n",
    "    print(c)\n",
    "    print(d)\n",
    "    print(e)\n",
    "    print(v)"
   ]
  },
  {
   "cell_type": "code",
   "execution_count": 41,
   "id": "065649bc",
   "metadata": {},
   "outputs": [
    {
     "name": "stdout",
     "output_type": "stream",
     "text": [
      "3\n",
      "4\n",
      "5\n",
      "pandey\n",
      "abhi\n"
     ]
    }
   ],
   "source": [
    "### If we give the value again then it will prefer last value\n",
    "\n",
    "name(3,4,5,\"abhi\",\"pandey\")"
   ]
  },
  {
   "cell_type": "code",
   "execution_count": 53,
   "id": "f2b41026",
   "metadata": {},
   "outputs": [],
   "source": [
    "def value():\n",
    "    return \"abhishek\""
   ]
  },
  {
   "cell_type": "code",
   "execution_count": 54,
   "id": "2db4c9d2",
   "metadata": {},
   "outputs": [
    {
     "name": "stdout",
     "output_type": "stream",
     "text": [
      "abhishek\n"
     ]
    }
   ],
   "source": [
    "val = value()\n",
    "print(val)"
   ]
  },
  {
   "cell_type": "code",
   "execution_count": 57,
   "id": "6aa62124",
   "metadata": {},
   "outputs": [],
   "source": [
    "def value():\n",
    "    print(\"Hello abhishek!\")\n",
    "    return True\n",
    "    print(\"Hello there\")"
   ]
  },
  {
   "cell_type": "code",
   "execution_count": 58,
   "id": "95585dd3",
   "metadata": {},
   "outputs": [
    {
     "name": "stdout",
     "output_type": "stream",
     "text": [
      "Hello abhishek!\n",
      "True\n"
     ]
    }
   ],
   "source": [
    "val = value()\n",
    "print(val)"
   ]
  },
  {
   "cell_type": "code",
   "execution_count": 59,
   "id": "e93e83ea",
   "metadata": {},
   "outputs": [],
   "source": [
    "def value():\n",
    "    print(\"Hello abhishek!\")\n",
    "    return False\n",
    "    print(\"Hello there\")"
   ]
  },
  {
   "cell_type": "code",
   "execution_count": 60,
   "id": "1eef90a7",
   "metadata": {},
   "outputs": [
    {
     "name": "stdout",
     "output_type": "stream",
     "text": [
      "Hello abhishek!\n",
      "False\n"
     ]
    }
   ],
   "source": [
    "val = value()\n",
    "print(val)"
   ]
  },
  {
   "cell_type": "code",
   "execution_count": 63,
   "id": "c93f5c25",
   "metadata": {},
   "outputs": [],
   "source": [
    "## *args  ==>   When used in a method we can supply any numbers of arguments in that method\n",
    "  \n",
    "def test(*args):\n",
    "    print(args)"
   ]
  },
  {
   "cell_type": "code",
   "execution_count": 64,
   "id": "ce74d3c4",
   "metadata": {},
   "outputs": [
    {
     "name": "stdout",
     "output_type": "stream",
     "text": [
      "(1, 2, 3, 4, 5, 6, 7, 8, 9, 10)\n"
     ]
    }
   ],
   "source": [
    "test(1,2,3,4,5,6,7,8,9,10)"
   ]
  },
  {
   "cell_type": "code",
   "execution_count": 69,
   "id": "22b9d739",
   "metadata": {},
   "outputs": [],
   "source": [
    "def test(*x):\n",
    "    print(x) "
   ]
  },
  {
   "cell_type": "code",
   "execution_count": 70,
   "id": "f4123531",
   "metadata": {},
   "outputs": [
    {
     "name": "stdout",
     "output_type": "stream",
     "text": [
      "(1, 2, 3, 4, 4, 5, 5, 6, 7)\n"
     ]
    }
   ],
   "source": [
    "test(1,2,3,4,4,5,5,6,7)"
   ]
  },
  {
   "cell_type": "code",
   "execution_count": 79,
   "id": "4f408fc2",
   "metadata": {},
   "outputs": [],
   "source": [
    "def test(*x):\n",
    "    print(x)"
   ]
  },
  {
   "cell_type": "code",
   "execution_count": 80,
   "id": "92e8c4a8",
   "metadata": {},
   "outputs": [
    {
     "ename": "TypeError",
     "evalue": "test() got an unexpected keyword argument 'key1'",
     "output_type": "error",
     "traceback": [
      "\u001b[1;31m---------------------------------------------------------------------------\u001b[0m",
      "\u001b[1;31mTypeError\u001b[0m                                 Traceback (most recent call last)",
      "Cell \u001b[1;32mIn[80], line 1\u001b[0m\n\u001b[1;32m----> 1\u001b[0m \u001b[43mtest\u001b[49m\u001b[43m(\u001b[49m\u001b[43mkey1\u001b[49m\u001b[38;5;241;43m=\u001b[39;49m\u001b[38;5;124;43m'\u001b[39;49m\u001b[38;5;124;43mvalue1\u001b[39;49m\u001b[38;5;124;43m'\u001b[39;49m\u001b[43m,\u001b[49m\u001b[43mkey2\u001b[49m\u001b[38;5;241;43m=\u001b[39;49m\u001b[38;5;124;43m'\u001b[39;49m\u001b[38;5;124;43mvalue2\u001b[39;49m\u001b[38;5;124;43m'\u001b[39;49m\u001b[43m)\u001b[49m\n",
      "\u001b[1;31mTypeError\u001b[0m: test() got an unexpected keyword argument 'key1'"
     ]
    }
   ],
   "source": [
    "test(key1='value1',key2='value2')"
   ]
  },
  {
   "cell_type": "code",
   "execution_count": 77,
   "id": "ddf10a63",
   "metadata": {},
   "outputs": [],
   "source": [
    "def test(**kwargs):\n",
    "    print(kwargs)"
   ]
  },
  {
   "cell_type": "code",
   "execution_count": 78,
   "id": "b50d32c3",
   "metadata": {},
   "outputs": [
    {
     "name": "stdout",
     "output_type": "stream",
     "text": [
      "{'key1': 'value1', 'key2': 'value2'}\n"
     ]
    }
   ],
   "source": [
    "test(key1='value1',key2='value2')"
   ]
  },
  {
   "cell_type": "code",
   "execution_count": 84,
   "id": "55718399",
   "metadata": {},
   "outputs": [],
   "source": [
    "## We can call one function from second function such that also it is main purpose of function \n",
    "\n",
    "def test_1():\n",
    "    test_2()\n",
    "    test_3()"
   ]
  },
  {
   "cell_type": "code",
   "execution_count": 85,
   "id": "66363219",
   "metadata": {},
   "outputs": [],
   "source": [
    "def test_2():\n",
    "    print(\"My name is abhishek pandey\")"
   ]
  },
  {
   "cell_type": "code",
   "execution_count": 86,
   "id": "8f5ebba1",
   "metadata": {},
   "outputs": [],
   "source": [
    "def test_3():\n",
    "    print(\"I live in kota city\")"
   ]
  },
  {
   "cell_type": "code",
   "execution_count": 89,
   "id": "e1906f30",
   "metadata": {},
   "outputs": [
    {
     "name": "stdout",
     "output_type": "stream",
     "text": [
      "My name is abhishek pandey\n",
      "I live in kota city\n"
     ]
    }
   ],
   "source": [
    "test_1()"
   ]
  },
  {
   "cell_type": "code",
   "execution_count": 90,
   "id": "d912b21a",
   "metadata": {},
   "outputs": [
    {
     "name": "stdout",
     "output_type": "stream",
     "text": [
      "My name is abhishek pandey\n"
     ]
    }
   ],
   "source": [
    "test_2()"
   ]
  },
  {
   "cell_type": "code",
   "execution_count": 91,
   "id": "58ae08f5",
   "metadata": {},
   "outputs": [
    {
     "name": "stdout",
     "output_type": "stream",
     "text": [
      "I live in kota city\n"
     ]
    }
   ],
   "source": [
    "test_3()"
   ]
  },
  {
   "cell_type": "code",
   "execution_count": null,
   "id": "4871039b",
   "metadata": {},
   "outputs": [],
   "source": []
  }
 ],
 "metadata": {
  "kernelspec": {
   "display_name": "Python 3 (ipykernel)",
   "language": "python",
   "name": "python3"
  },
  "language_info": {
   "codemirror_mode": {
    "name": "ipython",
    "version": 3
   },
   "file_extension": ".py",
   "mimetype": "text/x-python",
   "name": "python",
   "nbconvert_exporter": "python",
   "pygments_lexer": "ipython3",
   "version": "3.11.1"
  }
 },
 "nbformat": 4,
 "nbformat_minor": 5
}

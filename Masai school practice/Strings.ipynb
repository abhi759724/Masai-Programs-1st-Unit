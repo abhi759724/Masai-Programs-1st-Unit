{
 "cells": [
  {
   "cell_type": "code",
   "execution_count": 57,
   "id": "9256921c",
   "metadata": {},
   "outputs": [
    {
     "name": "stdout",
     "output_type": "stream",
     "text": [
      "     Abhishek Pandey    \n"
     ]
    }
   ],
   "source": [
    "name = \"     Abhishek Pandey    \"\n",
    "print(name)"
   ]
  },
  {
   "cell_type": "code",
   "execution_count": 58,
   "id": "cb96280a",
   "metadata": {},
   "outputs": [
    {
     "data": {
      "text/plain": [
       "'Abhishek Pandey'"
      ]
     },
     "execution_count": 58,
     "metadata": {},
     "output_type": "execute_result"
    }
   ],
   "source": [
    "name = \"      Abhishek Pandey     \"\n",
    "name.strip()"
   ]
  },
  {
   "cell_type": "code",
   "execution_count": 25,
   "id": "873ba215",
   "metadata": {},
   "outputs": [
    {
     "name": "stdout",
     "output_type": "stream",
     "text": [
      "15\n"
     ]
    }
   ],
   "source": [
    "name = \"Abhishek Pandey\"\n",
    "print(len(name))\n"
   ]
  },
  {
   "cell_type": "code",
   "execution_count": 4,
   "id": "f1fe964e",
   "metadata": {},
   "outputs": [
    {
     "data": {
      "text/plain": [
       "'AChishek Pandey'"
      ]
     },
     "execution_count": 4,
     "metadata": {},
     "output_type": "execute_result"
    }
   ],
   "source": [
    "name = \"Abhishek Pandey\"\n",
    "name.replace('b','C')"
   ]
  },
  {
   "cell_type": "code",
   "execution_count": 6,
   "id": "aa59f699",
   "metadata": {},
   "outputs": [
    {
     "data": {
      "text/plain": [
       "'h'"
      ]
     },
     "execution_count": 6,
     "metadata": {},
     "output_type": "execute_result"
    }
   ],
   "source": [
    "name[2:3]"
   ]
  },
  {
   "cell_type": "code",
   "execution_count": 77,
   "id": "48fabd26",
   "metadata": {},
   "outputs": [
    {
     "data": {
      "text/plain": [
       "'bhishek p'"
      ]
     },
     "execution_count": 77,
     "metadata": {},
     "output_type": "execute_result"
    }
   ],
   "source": [
    "name=\"abhishek pandey\"\n",
    "name[1:-5]"
   ]
  },
  {
   "cell_type": "code",
   "execution_count": 7,
   "id": "cd31cba8",
   "metadata": {},
   "outputs": [
    {
     "data": {
      "text/plain": [
       "'bhishe'"
      ]
     },
     "execution_count": 7,
     "metadata": {},
     "output_type": "execute_result"
    }
   ],
   "source": [
    "name[1:7]"
   ]
  },
  {
   "cell_type": "code",
   "execution_count": 8,
   "id": "74e8acad",
   "metadata": {},
   "outputs": [
    {
     "data": {
      "text/plain": [
       "['A', 'hishek Pandey']"
      ]
     },
     "execution_count": 8,
     "metadata": {},
     "output_type": "execute_result"
    }
   ],
   "source": [
    "name.split('b')"
   ]
  },
  {
   "cell_type": "code",
   "execution_count": 9,
   "id": "05c192c6",
   "metadata": {},
   "outputs": [
    {
     "data": {
      "text/plain": [
       "'Abhishek Pandey'"
      ]
     },
     "execution_count": 9,
     "metadata": {},
     "output_type": "execute_result"
    }
   ],
   "source": [
    "name.title()"
   ]
  },
  {
   "cell_type": "code",
   "execution_count": 10,
   "id": "6328db53",
   "metadata": {},
   "outputs": [
    {
     "data": {
      "text/plain": [
       "'ABHISHEK PANDEY'"
      ]
     },
     "execution_count": 10,
     "metadata": {},
     "output_type": "execute_result"
    }
   ],
   "source": [
    "name.upper()"
   ]
  },
  {
   "cell_type": "code",
   "execution_count": 11,
   "id": "85dde26d",
   "metadata": {},
   "outputs": [
    {
     "data": {
      "text/plain": [
       "'abhishek pandey'"
      ]
     },
     "execution_count": 11,
     "metadata": {},
     "output_type": "execute_result"
    }
   ],
   "source": [
    "name.lower()"
   ]
  },
  {
   "cell_type": "code",
   "execution_count": 12,
   "id": "48b4fcbd",
   "metadata": {},
   "outputs": [
    {
     "data": {
      "text/plain": [
       "'y'"
      ]
     },
     "execution_count": 12,
     "metadata": {},
     "output_type": "execute_result"
    }
   ],
   "source": [
    "name[-1]"
   ]
  },
  {
   "cell_type": "code",
   "execution_count": 13,
   "id": "b55de50f",
   "metadata": {},
   "outputs": [
    {
     "data": {
      "text/plain": [
       "'yednaP kehsihbA'"
      ]
     },
     "execution_count": 13,
     "metadata": {},
     "output_type": "execute_result"
    }
   ],
   "source": [
    "name[::-1]"
   ]
  },
  {
   "cell_type": "code",
   "execution_count": 14,
   "id": "e0429b64",
   "metadata": {},
   "outputs": [
    {
     "data": {
      "text/plain": [
       "'Abhishek Pandey'"
      ]
     },
     "execution_count": 14,
     "metadata": {},
     "output_type": "execute_result"
    }
   ],
   "source": [
    "name[0::]"
   ]
  },
  {
   "cell_type": "code",
   "execution_count": 32,
   "id": "e22bf2dd",
   "metadata": {},
   "outputs": [
    {
     "name": "stdout",
     "output_type": "stream",
     "text": [
      "30\n",
      "Number of Alphabet character is 22\n",
      "Number of Numeric character is 6\n",
      "Number of special character is 2\n"
     ]
    }
   ],
   "source": [
    "##  Now to count alphabets and numbers we use isalpha(),isdigit() function\n",
    "\n",
    "a=\"abhishek759724pandey@gmail.com\"\n",
    "x=len(a)\n",
    "print(x)\n",
    "alpha=0\n",
    "num=0\n",
    "for i in range(x):   \n",
    "    if a[i].isalpha():\n",
    "        alpha+=1\n",
    "    elif a[i].isdigit():\n",
    "        num+=1\n",
    "print(\"Number of Alphabet character is\",alpha)\n",
    "print(\"Number of Numeric character is\",num)\n",
    "print(\"Number of special character is\",x-(alpha+num))"
   ]
  },
  {
   "cell_type": "code",
   "execution_count": 78,
   "id": "19091f06",
   "metadata": {},
   "outputs": [
    {
     "name": "stdout",
     "output_type": "stream",
     "text": [
      "Yes\n"
     ]
    }
   ],
   "source": [
    "mystr=\"My name is abhishek\"\n",
    "if 'is' in mystr:\n",
    "    print(\"Yes\")\n",
    "else:\n",
    "    print(\"No\")"
   ]
  },
  {
   "cell_type": "code",
   "execution_count": 36,
   "id": "ae15bc5a",
   "metadata": {},
   "outputs": [
    {
     "name": "stdout",
     "output_type": "stream",
     "text": [
      "HelloWorld\n"
     ]
    }
   ],
   "source": [
    "## string concantation\n",
    "\n",
    "\n",
    "a = \"Hello\"\n",
    "b = \"World\"\n",
    "c=a+b\n",
    "print(c)"
   ]
  },
  {
   "cell_type": "code",
   "execution_count": 37,
   "id": "ad430856",
   "metadata": {},
   "outputs": [
    {
     "name": "stdout",
     "output_type": "stream",
     "text": [
      "Hello World\n"
     ]
    }
   ],
   "source": [
    "a = \"Hello\"\n",
    "b = \"World\"\n",
    "c = \" \"\n",
    "d = a + c + b\n",
    "print(d)"
   ]
  },
  {
   "cell_type": "code",
   "execution_count": 39,
   "id": "9e0cdab9",
   "metadata": {},
   "outputs": [
    {
     "name": "stdout",
     "output_type": "stream",
     "text": [
      "Hello\n",
      "World\n"
     ]
    }
   ],
   "source": [
    "## mew line =>  \\n\n",
    "\n",
    "a = \"Hello\"\n",
    "b = \"World\"\n",
    "print(a+\"\\n\"+b)"
   ]
  },
  {
   "cell_type": "code",
   "execution_count": 40,
   "id": "24ac834b",
   "metadata": {},
   "outputs": [
    {
     "name": "stdout",
     "output_type": "stream",
     "text": [
      "Hello World\n"
     ]
    }
   ],
   "source": [
    "a = \"Hello\"\n",
    "b = \"World\"\n",
    "print(a+\" \"+b)"
   ]
  },
  {
   "cell_type": "code",
   "execution_count": 43,
   "id": "64a78978",
   "metadata": {},
   "outputs": [
    {
     "name": "stdout",
     "output_type": "stream",
     "text": [
      "Hello\\World\n"
     ]
    }
   ],
   "source": [
    "##  backslash => \\\\\n",
    "\n",
    "a = \"Hello\"\n",
    "b = \"World\"\n",
    "print(a+\"\\\\\"+b)"
   ]
  },
  {
   "cell_type": "code",
   "execution_count": 44,
   "id": "41756c56",
   "metadata": {},
   "outputs": [
    {
     "name": "stdout",
     "output_type": "stream",
     "text": [
      "Hello'World\n"
     ]
    }
   ],
   "source": [
    "##  single quote => \\'\n",
    "\n",
    "a = \"Hello\"\n",
    "b = \"World\"\n",
    "print(a+\"\\'\"+b)"
   ]
  },
  {
   "cell_type": "code",
   "execution_count": 47,
   "id": "33b6888a",
   "metadata": {},
   "outputs": [
    {
     "name": "stdout",
     "output_type": "stream",
     "text": [
      "Hello\tWorld\n"
     ]
    }
   ],
   "source": [
    "## tab =>  \\t\n",
    "\n",
    "a = \"Hello\"\n",
    "b = \"World\"\n",
    "print(a+\"\\t\"+b)"
   ]
  },
  {
   "cell_type": "code",
   "execution_count": 48,
   "id": "354bbd33",
   "metadata": {},
   "outputs": [
    {
     "name": "stdout",
     "output_type": "stream",
     "text": [
      "Hello\bWorld\n"
     ]
    }
   ],
   "source": [
    "## backspace ==>  \\b\n",
    "\n",
    "a = \"Hello\"\n",
    "b = \"World\"\n",
    "print(a+\"\\b\"+b)"
   ]
  },
  {
   "cell_type": "code",
   "execution_count": null,
   "id": "c463428b",
   "metadata": {},
   "outputs": [],
   "source": [
    "###  .format()"
   ]
  },
  {
   "cell_type": "code",
   "execution_count": 51,
   "id": "a2994061",
   "metadata": {},
   "outputs": [
    {
     "name": "stdout",
     "output_type": "stream",
     "text": [
      "My name is Abhishek, I scored 97.7 in 12th and I currently study in Masai School\n"
     ]
    }
   ],
   "source": [
    "name=\"Abhishek\"\n",
    "score=97.7\n",
    "institute=\"Masai School\"\n",
    "\n",
    "my_intro=\"My name is {}, I scored {} in 12th and I currently study in {}\"\n",
    "data=my_intro.format(name,score,institute)\n",
    "print(data)"
   ]
  },
  {
   "cell_type": "code",
   "execution_count": 52,
   "id": "5bb75ab0",
   "metadata": {},
   "outputs": [
    {
     "name": "stdout",
     "output_type": "stream",
     "text": [
      "My name is Abhishek, I scored 97.7 in 12th and I currently study in Masai School\n"
     ]
    }
   ],
   "source": [
    "name=\"Abhishek\"\n",
    "score=97.7\n",
    "institute=\"Masai School\"\n",
    "\n",
    "my_intro=\"My name is {}, I scored {} in 12th and I currently study in {}\"\n",
    "print(my_intro.format(name,score,institute))"
   ]
  },
  {
   "cell_type": "code",
   "execution_count": 55,
   "id": "190d23ba",
   "metadata": {},
   "outputs": [
    {
     "name": "stdout",
     "output_type": "stream",
     "text": [
      "My name is Abhishek pandey, I scored 87 in 12th and I currently study in Masai school\n"
     ]
    }
   ],
   "source": [
    "n=10\n",
    "my_intro=\"My name is {}, I scored {} in 12th and I currently study in {}\"\n",
    "print(my_intro.format(\"Abhishek pandey\",97-n,\"Masai school\"))"
   ]
  },
  {
   "cell_type": "code",
   "execution_count": 5,
   "id": "65ab3787",
   "metadata": {},
   "outputs": [
    {
     "name": "stdout",
     "output_type": "stream",
     "text": [
      "Help on NoneType object:\n",
      "\n",
      "class NoneType(object)\n",
      " |  Methods defined here:\n",
      " |  \n",
      " |  __bool__(self, /)\n",
      " |      True if self else False\n",
      " |  \n",
      " |  __repr__(self, /)\n",
      " |      Return repr(self).\n",
      " |  \n",
      " |  ----------------------------------------------------------------------\n",
      " |  Static methods defined here:\n",
      " |  \n",
      " |  __new__(*args, **kwargs) from builtins.type\n",
      " |      Create and return a new object.  See help(type) for accurate signature.\n",
      "\n"
     ]
    }
   ],
   "source": [
    "mylist=[1,2,3,4,5]\n",
    "help(mylist.append(\"abhi\"))"
   ]
  },
  {
   "cell_type": "code",
   "execution_count": null,
   "id": "d3461d90",
   "metadata": {},
   "outputs": [],
   "source": []
  }
 ],
 "metadata": {
  "kernelspec": {
   "display_name": "Python 3 (ipykernel)",
   "language": "python",
   "name": "python3"
  },
  "language_info": {
   "codemirror_mode": {
    "name": "ipython",
    "version": 3
   },
   "file_extension": ".py",
   "mimetype": "text/x-python",
   "name": "python",
   "nbconvert_exporter": "python",
   "pygments_lexer": "ipython3",
   "version": "3.11.1"
  }
 },
 "nbformat": 4,
 "nbformat_minor": 5
}

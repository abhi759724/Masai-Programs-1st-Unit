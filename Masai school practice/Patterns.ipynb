{
 "cells": [
  {
   "cell_type": "code",
   "execution_count": 18,
   "id": "23e18d8b",
   "metadata": {},
   "outputs": [
    {
     "name": "stdout",
     "output_type": "stream",
     "text": [
      "11\n",
      " ******** \n",
      "*        *\n",
      "*        *\n",
      "*        *\n",
      "*        *\n",
      "**********\n",
      "*        *\n",
      "*        *\n",
      "*        *\n",
      "*        *\n",
      "*        *\n"
     ]
    }
   ],
   "source": [
    "##   A\n",
    "\n",
    "n=int(input())\n",
    "for row in range(n):\n",
    "    p=row//2\n",
    "    for col in range(n-1):\n",
    "        if ((col==0 or col==(n-2)) and row!=0) or ((col>0 and col<n-2) and (row==0 or row==n//2)):\n",
    "            print(\"*\",end=\"\")\n",
    "        else:\n",
    "            print(end=\" \")\n",
    "        \n",
    "    print()"
   ]
  },
  {
   "cell_type": "code",
   "execution_count": 22,
   "id": "aa13b1a8",
   "metadata": {},
   "outputs": [
    {
     "name": "stdout",
     "output_type": "stream",
     "text": [
      "11\n",
      "**********\n",
      "*        *\n",
      "*        *\n",
      "*        *\n",
      "*        *\n",
      "**********\n",
      "*        *\n",
      "*        *\n",
      "*        *\n",
      "*        *\n",
      "**********\n"
     ]
    }
   ],
   "source": [
    "## B\n",
    "\n",
    "n=int(input())\n",
    "if n>=5:\n",
    "    for row in range(n):\n",
    "        for col in range(n-1):\n",
    "            if (col==0 or col==n-2) or ((col>0 and col<n-2) and (row==0 or row==n//2 or row==n-1)) or (col==n-1 and (row!=0 and row!=n/2 and row!=n-1)):\n",
    "                print(\"*\",end=\"\")\n",
    "            else:\n",
    "                print(end=\" \")\n",
    "        \n",
    "        print()\n",
    "else:\n",
    "    n=n+4\n",
    "    for row in range(n):\n",
    "        for col in range(n-1):\n",
    "            if (col==0 or col==(n-2)) or ((col>0 and col<n-2) and (row==0 or row==n//2 or row==n-1)):\n",
    "                print(\"*\",end=\"\")\n",
    "            else:\n",
    "                print(end=\" \")\n",
    "        \n",
    "        print()"
   ]
  },
  {
   "cell_type": "code",
   "execution_count": 89,
   "id": "32ac842f",
   "metadata": {},
   "outputs": [
    {
     "name": "stdout",
     "output_type": "stream",
     "text": [
      "5\n",
      "* * * *  \n",
      "*     \n",
      "*     \n",
      "*     \n",
      "* * * *  \n"
     ]
    }
   ],
   "source": [
    "## C\n",
    "\n",
    "n=int(input())\n",
    "for row in range(n): \n",
    "    for col in range(n):\n",
    "        if (row==0 or row==n-1) and (col>0 and col<n-1) or col==0:\n",
    "            print(\"*\",end=\" \")\n",
    "        else:\n",
    "            print(end=\" \")\n",
    "    print()\n",
    "        "
   ]
  },
  {
   "cell_type": "code",
   "execution_count": 35,
   "id": "3804e04e",
   "metadata": {},
   "outputs": [
    {
     "name": "stdout",
     "output_type": "stream",
     "text": [
      "9\n",
      "*               * \n",
      "*               * \n",
      "*               * \n",
      "*               * \n",
      "*               * \n",
      "*               * \n",
      "*               * \n",
      "*               * \n",
      "* * * * * * * * * \n"
     ]
    }
   ],
   "source": [
    "##  D\n",
    "n=int(input())\n",
    "for row in range(n): \n",
    "    for col in range(n):\n",
    "        if col==0 or col==n-1 or (row==n-1 and 0<col<n-1):\n",
    "            print(\"*\",end=\" \")\n",
    "        else:\n",
    "            print(end=\"  \")\n",
    "    print()"
   ]
  },
  {
   "cell_type": "code",
   "execution_count": 34,
   "id": "95757cbb",
   "metadata": {},
   "outputs": [
    {
     "name": "stdout",
     "output_type": "stream",
     "text": [
      "6\n",
      "*           \n",
      "*           \n",
      "*           \n",
      "*           \n",
      "*           \n",
      "* * * * * * \n"
     ]
    }
   ],
   "source": [
    "n=int(input())\n",
    "for row in range(n): \n",
    "    for col in range(n):\n",
    "        if row==n-1 or col==0:\n",
    "            print(\"*\",end=\" \")\n",
    "        else:\n",
    "            print(end=\" \")\n",
    "    print()"
   ]
  },
  {
   "cell_type": "code",
   "execution_count": 16,
   "id": "95b4b8fc",
   "metadata": {},
   "outputs": [
    {
     "name": "stdout",
     "output_type": "stream",
     "text": [
      "11\n",
      " * * * * * * * *   \n",
      "*           \n",
      "*           \n",
      "*           \n",
      "*           \n",
      "* * * * * * * * *   \n",
      "*           \n",
      "*           \n",
      "*           \n",
      "*           \n",
      " * * * * * * * *   \n"
     ]
    }
   ],
   "source": [
    "##  E\n",
    "\n",
    "n=int(input())\n",
    "for row in range(n): \n",
    "    for col in range(n):\n",
    "        if (col==0  and row!=0 and row!=n-1) or ((col>0 and col<n-2) and (row==0 or row==n//2 or row==n-1)):\n",
    "            print(\"*\",end=\" \")\n",
    "        else:\n",
    "            print(end=\" \")\n",
    "    print()"
   ]
  },
  {
   "cell_type": "code",
   "execution_count": 3,
   "id": "1f495fbf",
   "metadata": {},
   "outputs": [
    {
     "name": "stdout",
     "output_type": "stream",
     "text": [
      "7\n",
      " * * * *   \n",
      "*       \n",
      "*       \n",
      "* * * * *   \n",
      "*       \n",
      "*       \n",
      "*       \n"
     ]
    }
   ],
   "source": [
    "#  F\n",
    "\n",
    "n=int(input())\n",
    "for row in range(n): \n",
    "    for col in range(n):\n",
    "        if (col==0 and row!=0) or ((col>0 and col<n-2) and (row==0 or row==n//2)):\n",
    "            print(\"*\",end=\" \")\n",
    "        else:\n",
    "            print(end=\" \")\n",
    "    print()"
   ]
  },
  {
   "cell_type": "code",
   "execution_count": 13,
   "id": "62e61bea",
   "metadata": {},
   "outputs": [
    {
     "name": "stdout",
     "output_type": "stream",
     "text": [
      "10\n",
      "**********\n",
      "*        *\n",
      "*         \n",
      "*         \n",
      "*         \n",
      "**********\n",
      "*        *\n",
      "*        *\n",
      "*        *\n",
      "**********\n"
     ]
    }
   ],
   "source": [
    "n=int(input())\n",
    "for row in range(n): \n",
    "    for col in range(n):\n",
    "        if (row==0 or row==n//2 or row==n-1) or (col==0) or ((col==n-1) and (row>n//2 and row<n-1 or row==1)):\n",
    "            print(\"*\",end=\"\")\n",
    "        else:\n",
    "            print(end=\" \")\n",
    "    print()"
   ]
  },
  {
   "cell_type": "code",
   "execution_count": null,
   "id": "a691a4d8",
   "metadata": {},
   "outputs": [],
   "source": []
  }
 ],
 "metadata": {
  "kernelspec": {
   "display_name": "Python 3 (ipykernel)",
   "language": "python",
   "name": "python3"
  },
  "language_info": {
   "codemirror_mode": {
    "name": "ipython",
    "version": 3
   },
   "file_extension": ".py",
   "mimetype": "text/x-python",
   "name": "python",
   "nbconvert_exporter": "python",
   "pygments_lexer": "ipython3",
   "version": "3.11.1"
  }
 },
 "nbformat": 4,
 "nbformat_minor": 5
}

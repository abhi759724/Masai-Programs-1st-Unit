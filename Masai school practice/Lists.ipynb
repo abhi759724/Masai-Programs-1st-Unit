{
 "cells": [
  {
   "cell_type": "code",
   "execution_count": 36,
   "id": "1da7950e",
   "metadata": {},
   "outputs": [
    {
     "name": "stdout",
     "output_type": "stream",
     "text": [
      "1 2 3\n",
      "2\n",
      "[1, 2, 3]\n"
     ]
    }
   ],
   "source": [
    "arr=list(map(int,input().split()))\n",
    "sum=0\n",
    "for i in arr:\n",
    "    if i%2==0:\n",
    "        sum=sum+i\n",
    "print(sum)\n",
    "print(arr)\n",
    "\n"
   ]
  },
  {
   "cell_type": "code",
   "execution_count": 17,
   "id": "e46279a7",
   "metadata": {},
   "outputs": [
    {
     "name": "stdout",
     "output_type": "stream",
     "text": [
      "15\n"
     ]
    }
   ],
   "source": [
    "l=[1,2,3,4,5]\n",
    "sum=0\n",
    "for i in l:\n",
    "    sum=sum+i\n",
    "print(sum)"
   ]
  },
  {
   "cell_type": "code",
   "execution_count": 28,
   "id": "12df6991",
   "metadata": {},
   "outputs": [
    {
     "name": "stdout",
     "output_type": "stream",
     "text": [
      "2\n",
      "2\n",
      "abhi raj\n",
      "67 57\n"
     ]
    },
    {
     "data": {
      "text/plain": [
       "<function print(*args, sep=' ', end='\\n', file=None, flush=False)>"
      ]
     },
     "execution_count": 28,
     "metadata": {},
     "output_type": "execute_result"
    }
   ],
   "source": []
  },
  {
   "cell_type": "code",
   "execution_count": 38,
   "id": "b56f2597",
   "metadata": {},
   "outputs": [
    {
     "name": "stdout",
     "output_type": "stream",
     "text": [
      "3\n",
      "1 2 3\n",
      "4\n"
     ]
    }
   ],
   "source": [
    "n=int(input())\n",
    "arr=list(map(int,input().split()))\n",
    "p=arr[0]\n",
    "q=arr[-1]\n",
    "print(p+q)\n"
   ]
  },
  {
   "cell_type": "code",
   "execution_count": 42,
   "id": "397df0b6",
   "metadata": {},
   "outputs": [
    {
     "name": "stdout",
     "output_type": "stream",
     "text": [
      "1 2 3 4 5\n",
      "[1, 2, 3, 4, 5]\n",
      "1\n",
      "2\n",
      "3\n",
      "4\n",
      "5\n"
     ]
    }
   ],
   "source": [
    "marks=list(map(int,input().split()))\n",
    "print(marks)\n",
    "for i in range(len(marks)):\n",
    "    print(marks[i])\n"
   ]
  },
  {
   "cell_type": "code",
   "execution_count": 55,
   "id": "0436bec6",
   "metadata": {},
   "outputs": [
    {
     "name": "stdout",
     "output_type": "stream",
     "text": [
      "1 2 3\n",
      "1\n"
     ]
    }
   ],
   "source": [
    "marks=list(map(int,input().split()))\n",
    "sum=1\n",
    "for i in marks:\n",
    "    sum1=sum*i\n",
    "    sum1+sum\n",
    "print(sum)"
   ]
  },
  {
   "cell_type": "code",
   "execution_count": 2,
   "id": "da222d71",
   "metadata": {},
   "outputs": [
    {
     "name": "stdout",
     "output_type": "stream",
     "text": [
      "1 2 3 4 5 6 7\n",
      "12\n"
     ]
    }
   ],
   "source": [
    "marks=list(map(int,input().split()))\n",
    "sum=0\n",
    "for i in range(2,len(marks)+1,2):\n",
    "    sum=sum+i\n",
    "print(sum)"
   ]
  },
  {
   "cell_type": "code",
   "execution_count": 69,
   "id": "8a043c0d",
   "metadata": {},
   "outputs": [
    {
     "name": "stdout",
     "output_type": "stream",
     "text": [
      "12 23 12 34 56 78 90 34 10\n",
      "Present\n"
     ]
    }
   ],
   "source": [
    "marks=list(map(int,input().split()))\n",
    "if 10 in marks:\n",
    "    print(\"Present\")\n",
    "else:\n",
    "    print(\"Absent\")"
   ]
  },
  {
   "cell_type": "code",
   "execution_count": null,
   "id": "454714b8",
   "metadata": {},
   "outputs": [],
   "source": [
    "## to replace and add\n"
   ]
  },
  {
   "cell_type": "code",
   "execution_count": 71,
   "id": "22f2573f",
   "metadata": {},
   "outputs": [
    {
     "name": "stdout",
     "output_type": "stream",
     "text": [
      "[1, 2, 37, 'chacha', 'Kaka', 'lala', 46, 'apple', 'papaya', 'banana', 'mango']\n"
     ]
    }
   ],
   "source": [
    "## here in below code the given index is 3:4 so 3rd element is 88 which is replaced by the first given value which is chacha\n",
    "## and rest of the values will be added as new values i,e kaka,lala,46 etc.\n",
    "\n",
    "\n",
    "x=[1,2,37,88,'apple','papaya','banana','mango']\n",
    "x[3:4]=\"chacha\",\"Kaka\",\"lala\",46\n",
    "print(x)\n"
   ]
  },
  {
   "cell_type": "code",
   "execution_count": 2,
   "id": "aba3cc4c",
   "metadata": {},
   "outputs": [
    {
     "name": "stdout",
     "output_type": "stream",
     "text": [
      "[1, 2, 37, 'Harry potter', 88, 'apple', 'papaya', 'banana', 'mango']\n"
     ]
    }
   ],
   "source": [
    "## adding up the value can also be done using insert function such that insert any value by giving index number at which value \n",
    "## is to add i.e suppose you have to add \"Harry potter\" at 3rd index you can do it which is given below\n",
    "\n",
    "\n",
    "x=[1,2,37,88,'apple','papaya','banana','mango']\n",
    "x.insert(3,'Harry potter')\n",
    "print(x)"
   ]
  },
  {
   "cell_type": "code",
   "execution_count": null,
   "id": "67d99292",
   "metadata": {},
   "outputs": [],
   "source": [
    "## append function\n",
    "## append will add the element at last"
   ]
  },
  {
   "cell_type": "code",
   "execution_count": 3,
   "id": "d24a2208",
   "metadata": {},
   "outputs": [
    {
     "name": "stdout",
     "output_type": "stream",
     "text": [
      "[1, 2, 37, 88, 'apple', 'papaya', 'banana', 'mango', 'Harry potter']\n"
     ]
    }
   ],
   "source": [
    "x=[1,2,37,88,'apple','papaya','banana','mango']\n",
    "x.append('Harry potter')\n",
    "print(x)"
   ]
  },
  {
   "cell_type": "code",
   "execution_count": null,
   "id": "4ca0314a",
   "metadata": {},
   "outputs": [],
   "source": [
    "## extend function"
   ]
  },
  {
   "cell_type": "code",
   "execution_count": 6,
   "id": "ec2b1736",
   "metadata": {},
   "outputs": [
    {
     "name": "stdout",
     "output_type": "stream",
     "text": [
      "[1, 2, 37, 88, 'apple', 'papaya', 'banana', 'mango', 'lala', 1, 'tanhaji', 2, 99, 'chacha', 'Kaka', 'krishh', 46, 'iron man']\n"
     ]
    }
   ],
   "source": [
    "x=[1,2,37,88,'apple','papaya','banana','mango']\n",
    "y=['lala',1,'tanhaji',2, 99, 'chacha', 'Kaka','krishh', 46, 'iron man']\n",
    "x.extend(y)\n",
    "print(x)"
   ]
  },
  {
   "cell_type": "code",
   "execution_count": 8,
   "id": "950841f4",
   "metadata": {},
   "outputs": [
    {
     "name": "stdout",
     "output_type": "stream",
     "text": [
      "['lala', 1, 'tanhaji', 2, 99, 'chacha', 'Kaka', 'krishh', 46, 'iron man', [1, 2, 37, 88, 'apple', 'papaya', 'banana', 'mango']]\n"
     ]
    }
   ],
   "source": [
    "x=[1,2,37,88,'apple','papaya','banana','mango']\n",
    "y=['lala',1,'tanhaji',2, 99, 'chacha', 'Kaka','krishh', 46, 'iron man']\n",
    "y.append(x)\n",
    "print(y)"
   ]
  },
  {
   "cell_type": "code",
   "execution_count": null,
   "id": "e39d2614",
   "metadata": {},
   "outputs": [],
   "source": [
    "## pop function  it will remove the particular index i.e pop(2) therefore 2 index will be removed"
   ]
  },
  {
   "cell_type": "code",
   "execution_count": 17,
   "id": "5dfb9b83",
   "metadata": {},
   "outputs": [
    {
     "name": "stdout",
     "output_type": "stream",
     "text": [
      "[1, 37, 88, 'apple', 'papaya', 'banana', 'mango']\n"
     ]
    }
   ],
   "source": [
    "x=[1,2,37,88,'apple','papaya','banana','mango']\n",
    "x.pop(1)\n",
    "print(x)"
   ]
  },
  {
   "cell_type": "code",
   "execution_count": 13,
   "id": "4c13e26e",
   "metadata": {},
   "outputs": [
    {
     "name": "stdout",
     "output_type": "stream",
     "text": [
      "[]\n"
     ]
    }
   ],
   "source": [
    "## clear wiil remove all items\n",
    "\n",
    "\n",
    "x=[1,2,37,88,'apple','papaya','banana','mango']\n",
    "x.clear()\n",
    "print(x)"
   ]
  },
  {
   "cell_type": "code",
   "execution_count": 15,
   "id": "c28a6c47",
   "metadata": {},
   "outputs": [
    {
     "name": "stdout",
     "output_type": "stream",
     "text": [
      "[1, 2, 37, 'apple', 'papaya', 'banana', 'mango']\n"
     ]
    }
   ],
   "source": [
    "## remove function can remove and particular element by giving its value\n",
    "\n",
    "x=[1,2,37,88,'apple','papaya','banana','mango']\n",
    "x.remove(88)\n",
    "print(x)"
   ]
  },
  {
   "cell_type": "code",
   "execution_count": 18,
   "id": "49cd64ef",
   "metadata": {},
   "outputs": [
    {
     "name": "stdout",
     "output_type": "stream",
     "text": [
      "[12, 23, 32, 34, 42, 43, 56, 56, 65, 67, 445]\n"
     ]
    }
   ],
   "source": [
    "## sort function---  it will arrange in ascending order\n",
    "\n",
    "\n",
    "x=[12,34,445,56,67,56,42,23,65,43,32]\n",
    "x.sort()\n",
    "print(x)"
   ]
  },
  {
   "cell_type": "code",
   "execution_count": 20,
   "id": "47d68b86",
   "metadata": {},
   "outputs": [
    {
     "name": "stdout",
     "output_type": "stream",
     "text": [
      "['alpha', 'beck', 'beta', 'chacha', 'gama', 'zebra']\n"
     ]
    }
   ],
   "source": [
    "##arranged in alphabetical order\n",
    "\n",
    "x=['zebra','alpha','beta','gama','chacha','beck']\n",
    "x.sort()\n",
    "print(x)"
   ]
  },
  {
   "cell_type": "code",
   "execution_count": 23,
   "id": "b72a2d84",
   "metadata": {},
   "outputs": [
    {
     "name": "stdout",
     "output_type": "stream",
     "text": [
      "['Alpha', 'beck', 'beta', 'CHACHA', 'gama', 'Zebra']\n"
     ]
    }
   ],
   "source": [
    "x=['Zebra','Alpha','beta','gama','CHACHA','beck']\n",
    "x.sort(key=str.upper)\n",
    "print(x)"
   ]
  },
  {
   "cell_type": "code",
   "execution_count": 1,
   "id": "72c3e04e",
   "metadata": {},
   "outputs": [
    {
     "name": "stdout",
     "output_type": "stream",
     "text": [
      "['mango', 'banana', 'papaya', 'apple', 88, 37, 2, 1]\n"
     ]
    }
   ],
   "source": [
    "x=[1,2,37,88,'apple','papaya','banana','mango']\n",
    "x.reverse()\n",
    "print(x)"
   ]
  },
  {
   "cell_type": "code",
   "execution_count": null,
   "id": "868b9615",
   "metadata": {},
   "outputs": [],
   "source": []
  }
 ],
 "metadata": {
  "kernelspec": {
   "display_name": "Python 3 (ipykernel)",
   "language": "python",
   "name": "python3"
  },
  "language_info": {
   "codemirror_mode": {
    "name": "ipython",
    "version": 3
   },
   "file_extension": ".py",
   "mimetype": "text/x-python",
   "name": "python",
   "nbconvert_exporter": "python",
   "pygments_lexer": "ipython3",
   "version": "3.11.1"
  }
 },
 "nbformat": 4,
 "nbformat_minor": 5
}
